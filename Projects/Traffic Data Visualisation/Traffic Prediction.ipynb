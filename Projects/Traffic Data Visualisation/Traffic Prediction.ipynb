{
 "cells": [
  {
   "cell_type": "markdown",
   "id": "c83b03c6",
   "metadata": {},
   "source": [
    "# Traffic Prediction (dataset from Kaggle)"
   ]
  },
  {
   "cell_type": "code",
   "execution_count": 1,
   "id": "567f73cf",
   "metadata": {},
   "outputs": [],
   "source": [
    "import numpy as np\n",
    "import pandas as pd"
   ]
  },
  {
   "cell_type": "code",
   "execution_count": 2,
   "id": "747f1cde",
   "metadata": {},
   "outputs": [],
   "source": [
    "traffic_df = pd.read_csv(\"traffic.csv\")"
   ]
  },
  {
   "cell_type": "markdown",
   "id": "a7f320cf",
   "metadata": {},
   "source": [
    "**Obtaining general information on the dataset**"
   ]
  },
  {
   "cell_type": "code",
   "execution_count": 3,
   "id": "d662ffc2",
   "metadata": {},
   "outputs": [
    {
     "data": {
      "text/html": [
       "<div>\n",
       "<style scoped>\n",
       "    .dataframe tbody tr th:only-of-type {\n",
       "        vertical-align: middle;\n",
       "    }\n",
       "\n",
       "    .dataframe tbody tr th {\n",
       "        vertical-align: top;\n",
       "    }\n",
       "\n",
       "    .dataframe thead th {\n",
       "        text-align: right;\n",
       "    }\n",
       "</style>\n",
       "<table border=\"1\" class=\"dataframe\">\n",
       "  <thead>\n",
       "    <tr style=\"text-align: right;\">\n",
       "      <th></th>\n",
       "      <th>DateTime</th>\n",
       "      <th>Junction</th>\n",
       "      <th>Vehicles</th>\n",
       "      <th>ID</th>\n",
       "    </tr>\n",
       "  </thead>\n",
       "  <tbody>\n",
       "    <tr>\n",
       "      <th>0</th>\n",
       "      <td>2015-11-01 00:00:00</td>\n",
       "      <td>1</td>\n",
       "      <td>15</td>\n",
       "      <td>20151101001</td>\n",
       "    </tr>\n",
       "    <tr>\n",
       "      <th>1</th>\n",
       "      <td>2015-11-01 01:00:00</td>\n",
       "      <td>1</td>\n",
       "      <td>13</td>\n",
       "      <td>20151101011</td>\n",
       "    </tr>\n",
       "    <tr>\n",
       "      <th>2</th>\n",
       "      <td>2015-11-01 02:00:00</td>\n",
       "      <td>1</td>\n",
       "      <td>10</td>\n",
       "      <td>20151101021</td>\n",
       "    </tr>\n",
       "    <tr>\n",
       "      <th>3</th>\n",
       "      <td>2015-11-01 03:00:00</td>\n",
       "      <td>1</td>\n",
       "      <td>7</td>\n",
       "      <td>20151101031</td>\n",
       "    </tr>\n",
       "    <tr>\n",
       "      <th>4</th>\n",
       "      <td>2015-11-01 04:00:00</td>\n",
       "      <td>1</td>\n",
       "      <td>9</td>\n",
       "      <td>20151101041</td>\n",
       "    </tr>\n",
       "  </tbody>\n",
       "</table>\n",
       "</div>"
      ],
      "text/plain": [
       "              DateTime  Junction  Vehicles           ID\n",
       "0  2015-11-01 00:00:00         1        15  20151101001\n",
       "1  2015-11-01 01:00:00         1        13  20151101011\n",
       "2  2015-11-01 02:00:00         1        10  20151101021\n",
       "3  2015-11-01 03:00:00         1         7  20151101031\n",
       "4  2015-11-01 04:00:00         1         9  20151101041"
      ]
     },
     "execution_count": 3,
     "metadata": {},
     "output_type": "execute_result"
    }
   ],
   "source": [
    "traffic_df.head()"
   ]
  },
  {
   "cell_type": "code",
   "execution_count": 4,
   "id": "322088f5",
   "metadata": {},
   "outputs": [
    {
     "data": {
      "text/html": [
       "<div>\n",
       "<style scoped>\n",
       "    .dataframe tbody tr th:only-of-type {\n",
       "        vertical-align: middle;\n",
       "    }\n",
       "\n",
       "    .dataframe tbody tr th {\n",
       "        vertical-align: top;\n",
       "    }\n",
       "\n",
       "    .dataframe thead th {\n",
       "        text-align: right;\n",
       "    }\n",
       "</style>\n",
       "<table border=\"1\" class=\"dataframe\">\n",
       "  <thead>\n",
       "    <tr style=\"text-align: right;\">\n",
       "      <th></th>\n",
       "      <th>Junction</th>\n",
       "      <th>Vehicles</th>\n",
       "      <th>ID</th>\n",
       "    </tr>\n",
       "  </thead>\n",
       "  <tbody>\n",
       "    <tr>\n",
       "      <th>count</th>\n",
       "      <td>48120.000000</td>\n",
       "      <td>48120.000000</td>\n",
       "      <td>4.812000e+04</td>\n",
       "    </tr>\n",
       "    <tr>\n",
       "      <th>mean</th>\n",
       "      <td>2.180549</td>\n",
       "      <td>22.791334</td>\n",
       "      <td>2.016330e+10</td>\n",
       "    </tr>\n",
       "    <tr>\n",
       "      <th>std</th>\n",
       "      <td>0.966955</td>\n",
       "      <td>20.750063</td>\n",
       "      <td>5.944854e+06</td>\n",
       "    </tr>\n",
       "    <tr>\n",
       "      <th>min</th>\n",
       "      <td>1.000000</td>\n",
       "      <td>1.000000</td>\n",
       "      <td>2.015110e+10</td>\n",
       "    </tr>\n",
       "    <tr>\n",
       "      <th>25%</th>\n",
       "      <td>1.000000</td>\n",
       "      <td>9.000000</td>\n",
       "      <td>2.016042e+10</td>\n",
       "    </tr>\n",
       "    <tr>\n",
       "      <th>50%</th>\n",
       "      <td>2.000000</td>\n",
       "      <td>15.000000</td>\n",
       "      <td>2.016093e+10</td>\n",
       "    </tr>\n",
       "    <tr>\n",
       "      <th>75%</th>\n",
       "      <td>3.000000</td>\n",
       "      <td>29.000000</td>\n",
       "      <td>2.017023e+10</td>\n",
       "    </tr>\n",
       "    <tr>\n",
       "      <th>max</th>\n",
       "      <td>4.000000</td>\n",
       "      <td>180.000000</td>\n",
       "      <td>2.017063e+10</td>\n",
       "    </tr>\n",
       "  </tbody>\n",
       "</table>\n",
       "</div>"
      ],
      "text/plain": [
       "           Junction      Vehicles            ID\n",
       "count  48120.000000  48120.000000  4.812000e+04\n",
       "mean       2.180549     22.791334  2.016330e+10\n",
       "std        0.966955     20.750063  5.944854e+06\n",
       "min        1.000000      1.000000  2.015110e+10\n",
       "25%        1.000000      9.000000  2.016042e+10\n",
       "50%        2.000000     15.000000  2.016093e+10\n",
       "75%        3.000000     29.000000  2.017023e+10\n",
       "max        4.000000    180.000000  2.017063e+10"
      ]
     },
     "execution_count": 4,
     "metadata": {},
     "output_type": "execute_result"
    }
   ],
   "source": [
    "traffic_df.describe()"
   ]
  },
  {
   "cell_type": "code",
   "execution_count": 5,
   "id": "d91aae25",
   "metadata": {},
   "outputs": [
    {
     "name": "stdout",
     "output_type": "stream",
     "text": [
      "<class 'pandas.core.frame.DataFrame'>\n",
      "RangeIndex: 48120 entries, 0 to 48119\n",
      "Data columns (total 4 columns):\n",
      " #   Column    Non-Null Count  Dtype \n",
      "---  ------    --------------  ----- \n",
      " 0   DateTime  48120 non-null  object\n",
      " 1   Junction  48120 non-null  int64 \n",
      " 2   Vehicles  48120 non-null  int64 \n",
      " 3   ID        48120 non-null  int64 \n",
      "dtypes: int64(3), object(1)\n",
      "memory usage: 1.5+ MB\n"
     ]
    }
   ],
   "source": [
    "traffic_df.info()"
   ]
  },
  {
   "cell_type": "code",
   "execution_count": 6,
   "id": "cf1ad37a",
   "metadata": {},
   "outputs": [
    {
     "data": {
      "text/plain": [
       "(48120, 4)"
      ]
     },
     "execution_count": 6,
     "metadata": {},
     "output_type": "execute_result"
    }
   ],
   "source": [
    "traffic_df.shape"
   ]
  },
  {
   "cell_type": "code",
   "execution_count": 7,
   "id": "9bcab4f0",
   "metadata": {},
   "outputs": [
    {
     "data": {
      "text/plain": [
       "Index(['DateTime', 'Junction', 'Vehicles', 'ID'], dtype='object')"
      ]
     },
     "execution_count": 7,
     "metadata": {},
     "output_type": "execute_result"
    }
   ],
   "source": [
    "traffic_df.columns"
   ]
  },
  {
   "cell_type": "code",
   "execution_count": 8,
   "id": "50cfba21",
   "metadata": {},
   "outputs": [
    {
     "data": {
      "text/plain": [
       "1    14592\n",
       "2    14592\n",
       "3    14592\n",
       "4     4344\n",
       "Name: Junction, dtype: int64"
      ]
     },
     "execution_count": 8,
     "metadata": {},
     "output_type": "execute_result"
    }
   ],
   "source": [
    "junction_count = traffic_df['Junction'].value_counts()\n",
    "junction_count"
   ]
  },
  {
   "cell_type": "markdown",
   "id": "f380f5ee",
   "metadata": {},
   "source": [
    "**Removing ID because traffic congestion has no relation to vehicle ID**"
   ]
  },
  {
   "cell_type": "code",
   "execution_count": 9,
   "id": "a511d11f",
   "metadata": {},
   "outputs": [],
   "source": [
    "traffic_df.drop('ID', axis=1, inplace = True)"
   ]
  },
  {
   "cell_type": "code",
   "execution_count": 10,
   "id": "5ddcce13",
   "metadata": {},
   "outputs": [
    {
     "data": {
      "text/html": [
       "<div>\n",
       "<style scoped>\n",
       "    .dataframe tbody tr th:only-of-type {\n",
       "        vertical-align: middle;\n",
       "    }\n",
       "\n",
       "    .dataframe tbody tr th {\n",
       "        vertical-align: top;\n",
       "    }\n",
       "\n",
       "    .dataframe thead th {\n",
       "        text-align: right;\n",
       "    }\n",
       "</style>\n",
       "<table border=\"1\" class=\"dataframe\">\n",
       "  <thead>\n",
       "    <tr style=\"text-align: right;\">\n",
       "      <th></th>\n",
       "      <th>DateTime</th>\n",
       "      <th>Junction</th>\n",
       "      <th>Vehicles</th>\n",
       "    </tr>\n",
       "  </thead>\n",
       "  <tbody>\n",
       "    <tr>\n",
       "      <th>0</th>\n",
       "      <td>2015-11-01 00:00:00</td>\n",
       "      <td>1</td>\n",
       "      <td>15</td>\n",
       "    </tr>\n",
       "    <tr>\n",
       "      <th>1</th>\n",
       "      <td>2015-11-01 01:00:00</td>\n",
       "      <td>1</td>\n",
       "      <td>13</td>\n",
       "    </tr>\n",
       "    <tr>\n",
       "      <th>2</th>\n",
       "      <td>2015-11-01 02:00:00</td>\n",
       "      <td>1</td>\n",
       "      <td>10</td>\n",
       "    </tr>\n",
       "    <tr>\n",
       "      <th>3</th>\n",
       "      <td>2015-11-01 03:00:00</td>\n",
       "      <td>1</td>\n",
       "      <td>7</td>\n",
       "    </tr>\n",
       "    <tr>\n",
       "      <th>4</th>\n",
       "      <td>2015-11-01 04:00:00</td>\n",
       "      <td>1</td>\n",
       "      <td>9</td>\n",
       "    </tr>\n",
       "    <tr>\n",
       "      <th>...</th>\n",
       "      <td>...</td>\n",
       "      <td>...</td>\n",
       "      <td>...</td>\n",
       "    </tr>\n",
       "    <tr>\n",
       "      <th>48115</th>\n",
       "      <td>2017-06-30 19:00:00</td>\n",
       "      <td>4</td>\n",
       "      <td>11</td>\n",
       "    </tr>\n",
       "    <tr>\n",
       "      <th>48116</th>\n",
       "      <td>2017-06-30 20:00:00</td>\n",
       "      <td>4</td>\n",
       "      <td>30</td>\n",
       "    </tr>\n",
       "    <tr>\n",
       "      <th>48117</th>\n",
       "      <td>2017-06-30 21:00:00</td>\n",
       "      <td>4</td>\n",
       "      <td>16</td>\n",
       "    </tr>\n",
       "    <tr>\n",
       "      <th>48118</th>\n",
       "      <td>2017-06-30 22:00:00</td>\n",
       "      <td>4</td>\n",
       "      <td>22</td>\n",
       "    </tr>\n",
       "    <tr>\n",
       "      <th>48119</th>\n",
       "      <td>2017-06-30 23:00:00</td>\n",
       "      <td>4</td>\n",
       "      <td>12</td>\n",
       "    </tr>\n",
       "  </tbody>\n",
       "</table>\n",
       "<p>48120 rows × 3 columns</p>\n",
       "</div>"
      ],
      "text/plain": [
       "                  DateTime  Junction  Vehicles\n",
       "0      2015-11-01 00:00:00         1        15\n",
       "1      2015-11-01 01:00:00         1        13\n",
       "2      2015-11-01 02:00:00         1        10\n",
       "3      2015-11-01 03:00:00         1         7\n",
       "4      2015-11-01 04:00:00         1         9\n",
       "...                    ...       ...       ...\n",
       "48115  2017-06-30 19:00:00         4        11\n",
       "48116  2017-06-30 20:00:00         4        30\n",
       "48117  2017-06-30 21:00:00         4        16\n",
       "48118  2017-06-30 22:00:00         4        22\n",
       "48119  2017-06-30 23:00:00         4        12\n",
       "\n",
       "[48120 rows x 3 columns]"
      ]
     },
     "execution_count": 10,
     "metadata": {},
     "output_type": "execute_result"
    }
   ],
   "source": [
    "traffic_df"
   ]
  },
  {
   "cell_type": "markdown",
   "id": "b01d77c2",
   "metadata": {},
   "source": [
    "**Checking for null values and correcting them**"
   ]
  },
  {
   "cell_type": "code",
   "execution_count": 11,
   "id": "51c52090",
   "metadata": {},
   "outputs": [
    {
     "data": {
      "text/plain": [
       "DateTime  Junction  Vehicles\n",
       "False     False     False       48120\n",
       "dtype: int64"
      ]
     },
     "execution_count": 11,
     "metadata": {},
     "output_type": "execute_result"
    }
   ],
   "source": [
    "traffic_df.isna().value_counts()"
   ]
  },
  {
   "cell_type": "code",
   "execution_count": 12,
   "id": "2aac7059",
   "metadata": {},
   "outputs": [
    {
     "data": {
      "text/plain": [
       "Index(['DateTime', 'Junction', 'Vehicles'], dtype='object')"
      ]
     },
     "execution_count": 12,
     "metadata": {},
     "output_type": "execute_result"
    }
   ],
   "source": [
    "traffic_df.columns"
   ]
  },
  {
   "cell_type": "markdown",
   "id": "04b35d9b",
   "metadata": {},
   "source": [
    "**Plots for Junction wise traffic**"
   ]
  },
  {
   "cell_type": "code",
   "execution_count": 13,
   "id": "d3972db7",
   "metadata": {},
   "outputs": [],
   "source": [
    "import matplotlib.pyplot as plt"
   ]
  },
  {
   "cell_type": "code",
   "execution_count": 14,
   "id": "0285abf6",
   "metadata": {},
   "outputs": [],
   "source": [
    "import seaborn as sns"
   ]
  },
  {
   "cell_type": "code",
   "execution_count": 15,
   "id": "5a957f5c",
   "metadata": {},
   "outputs": [
    {
     "data": {
      "image/png": "[encoded data removed]",
      "text/plain": [
       "<Figure size 600x500 with 1 Axes>"
      ]
     },
     "metadata": {},
     "output_type": "display_data"
    }
   ],
   "source": [
    "fig, ax = plt.subplots(figsize=(6, 5))\n",
    "sns.barplot(x='Junction', y='Vehicles', palette='rocket', data=traffic_df,ax=ax)\n",
    "plt.title(\"Junction wise distribution of Vehicles\")\n",
    "plt.show()"
   ]
  },
  {
   "cell_type": "markdown",
   "id": "d541eed5",
   "metadata": {},
   "source": [
    "**Extracting time for further manipulation**"
   ]
  },
  {
   "cell_type": "code",
   "execution_count": 16,
   "id": "1a080888",
   "metadata": {},
   "outputs": [],
   "source": [
    "import datetime as dt"
   ]
  },
  {
   "cell_type": "code",
   "execution_count": 17,
   "id": "3d2f7061",
   "metadata": {},
   "outputs": [
    {
     "data": {
      "text/html": [
       "<div>\n",
       "<style scoped>\n",
       "    .dataframe tbody tr th:only-of-type {\n",
       "        vertical-align: middle;\n",
       "    }\n",
       "\n",
       "    .dataframe tbody tr th {\n",
       "        vertical-align: top;\n",
       "    }\n",
       "\n",
       "    .dataframe thead th {\n",
       "        text-align: right;\n",
       "    }\n",
       "</style>\n",
       "<table border=\"1\" class=\"dataframe\">\n",
       "  <thead>\n",
       "    <tr style=\"text-align: right;\">\n",
       "      <th></th>\n",
       "      <th>DateTime</th>\n",
       "      <th>Junction</th>\n",
       "      <th>Vehicles</th>\n",
       "      <th>Time</th>\n",
       "      <th>Date</th>\n",
       "    </tr>\n",
       "  </thead>\n",
       "  <tbody>\n",
       "    <tr>\n",
       "      <th>0</th>\n",
       "      <td>2015-11-01 00:00:00</td>\n",
       "      <td>1</td>\n",
       "      <td>15</td>\n",
       "      <td>00:00:00</td>\n",
       "      <td>2015/11/01</td>\n",
       "    </tr>\n",
       "    <tr>\n",
       "      <th>1</th>\n",
       "      <td>2015-11-01 01:00:00</td>\n",
       "      <td>1</td>\n",
       "      <td>13</td>\n",
       "      <td>01:00:00</td>\n",
       "      <td>2015/11/01</td>\n",
       "    </tr>\n",
       "    <tr>\n",
       "      <th>2</th>\n",
       "      <td>2015-11-01 02:00:00</td>\n",
       "      <td>1</td>\n",
       "      <td>10</td>\n",
       "      <td>02:00:00</td>\n",
       "      <td>2015/11/01</td>\n",
       "    </tr>\n",
       "    <tr>\n",
       "      <th>3</th>\n",
       "      <td>2015-11-01 03:00:00</td>\n",
       "      <td>1</td>\n",
       "      <td>7</td>\n",
       "      <td>03:00:00</td>\n",
       "      <td>2015/11/01</td>\n",
       "    </tr>\n",
       "    <tr>\n",
       "      <th>4</th>\n",
       "      <td>2015-11-01 04:00:00</td>\n",
       "      <td>1</td>\n",
       "      <td>9</td>\n",
       "      <td>04:00:00</td>\n",
       "      <td>2015/11/01</td>\n",
       "    </tr>\n",
       "    <tr>\n",
       "      <th>...</th>\n",
       "      <td>...</td>\n",
       "      <td>...</td>\n",
       "      <td>...</td>\n",
       "      <td>...</td>\n",
       "      <td>...</td>\n",
       "    </tr>\n",
       "    <tr>\n",
       "      <th>48115</th>\n",
       "      <td>2017-06-30 19:00:00</td>\n",
       "      <td>4</td>\n",
       "      <td>11</td>\n",
       "      <td>19:00:00</td>\n",
       "      <td>2017/06/30</td>\n",
       "    </tr>\n",
       "    <tr>\n",
       "      <th>48116</th>\n",
       "      <td>2017-06-30 20:00:00</td>\n",
       "      <td>4</td>\n",
       "      <td>30</td>\n",
       "      <td>20:00:00</td>\n",
       "      <td>2017/06/30</td>\n",
       "    </tr>\n",
       "    <tr>\n",
       "      <th>48117</th>\n",
       "      <td>2017-06-30 21:00:00</td>\n",
       "      <td>4</td>\n",
       "      <td>16</td>\n",
       "      <td>21:00:00</td>\n",
       "      <td>2017/06/30</td>\n",
       "    </tr>\n",
       "    <tr>\n",
       "      <th>48118</th>\n",
       "      <td>2017-06-30 22:00:00</td>\n",
       "      <td>4</td>\n",
       "      <td>22</td>\n",
       "      <td>22:00:00</td>\n",
       "      <td>2017/06/30</td>\n",
       "    </tr>\n",
       "    <tr>\n",
       "      <th>48119</th>\n",
       "      <td>2017-06-30 23:00:00</td>\n",
       "      <td>4</td>\n",
       "      <td>12</td>\n",
       "      <td>23:00:00</td>\n",
       "      <td>2017/06/30</td>\n",
       "    </tr>\n",
       "  </tbody>\n",
       "</table>\n",
       "<p>48120 rows × 5 columns</p>\n",
       "</div>"
      ],
      "text/plain": [
       "                 DateTime  Junction  Vehicles      Time        Date\n",
       "0     2015-11-01 00:00:00         1        15  00:00:00  2015/11/01\n",
       "1     2015-11-01 01:00:00         1        13  01:00:00  2015/11/01\n",
       "2     2015-11-01 02:00:00         1        10  02:00:00  2015/11/01\n",
       "3     2015-11-01 03:00:00         1         7  03:00:00  2015/11/01\n",
       "4     2015-11-01 04:00:00         1         9  04:00:00  2015/11/01\n",
       "...                   ...       ...       ...       ...         ...\n",
       "48115 2017-06-30 19:00:00         4        11  19:00:00  2017/06/30\n",
       "48116 2017-06-30 20:00:00         4        30  20:00:00  2017/06/30\n",
       "48117 2017-06-30 21:00:00         4        16  21:00:00  2017/06/30\n",
       "48118 2017-06-30 22:00:00         4        22  22:00:00  2017/06/30\n",
       "48119 2017-06-30 23:00:00         4        12  23:00:00  2017/06/30\n",
       "\n",
       "[48120 rows x 5 columns]"
      ]
     },
     "execution_count": 17,
     "metadata": {},
     "output_type": "execute_result"
    }
   ],
   "source": [
    "traffic_df['DateTime'] = pd.to_datetime(traffic_df['DateTime'])\n",
    "traffic_df['Time'] = traffic_df['DateTime'].dt.strftime('%H:%M:%S')\n",
    "traffic_df['Date'] = traffic_df['DateTime'].dt.strftime('%Y/%m/%d')\n",
    "\n",
    "traffic_df"
   ]
  },
  {
   "cell_type": "code",
   "execution_count": 18,
   "id": "29f024d8",
   "metadata": {
    "scrolled": true
   },
   "outputs": [
    {
     "name": "stdout",
     "output_type": "stream",
     "text": [
      "Junction\n",
      "1    657412\n",
      "2    207983\n",
      "3    199823\n",
      "4     31501\n",
      "Name: Vehicles, dtype: int64\n"
     ]
    }
   ],
   "source": [
    "vehicles_per_junction = traffic_df.groupby('Junction')['Vehicles'].sum()\n",
    "print(vehicles_per_junction)\n",
    "\n"
   ]
  },
  {
   "cell_type": "markdown",
   "id": "da9fc318",
   "metadata": {},
   "source": [
    "**Max vehicle count on a day**"
   ]
  },
  {
   "cell_type": "code",
   "execution_count": 19,
   "id": "0ce855b4",
   "metadata": {},
   "outputs": [
    {
     "name": "stdout",
     "output_type": "stream",
     "text": [
      "Maximum Number of Vehicles: 180\n",
      "\n",
      "\n",
      "\n",
      "                 DateTime  Junction  Vehicles      Time        Date\n",
      "40723 2017-02-23 19:00:00         3       180  19:00:00  2017/02/23\n"
     ]
    }
   ],
   "source": [
    "max_vehicles = traffic_df['Vehicles'].max()\n",
    "print(\"Maximum Number of Vehicles:\", max_vehicles)\n",
    "print('\\n\\n')\n",
    "\n",
    "max_vehicles = traffic_df['Vehicles'].max()\n",
    "max_vehicles_row = traffic_df.loc[traffic_df['Vehicles'] == max_vehicles]\n",
    "print(max_vehicles_row)\n"
   ]
  },
  {
   "cell_type": "code",
   "execution_count": 20,
   "id": "a6292694",
   "metadata": {},
   "outputs": [
    {
     "data": {
      "text/plain": [
       "<Axes: xlabel='Vehicles', ylabel='Count'>"
      ]
     },
     "execution_count": 20,
     "metadata": {},
     "output_type": "execute_result"
    },
    {
     "data": {
      "image/png": "[encoded data removed]",
      "text/plain": [
       "<Figure size 640x480 with 1 Axes>"
      ]
     },
     "metadata": {},
     "output_type": "display_data"
    }
   ],
   "source": [
    "sns.histplot(data=traffic_df, x='Vehicles', hue='Junction', multiple='stack', palette='viridis')\n"
   ]
  },
  {
   "cell_type": "code",
   "execution_count": null,
   "id": "303223e1",
   "metadata": {
    "scrolled": true
   },
   "outputs": [],
   "source": []
  },
  {
   "cell_type": "markdown",
   "id": "8fff3add",
   "metadata": {},
   "source": [
    "**Comparing traffic time-wise on all the junctions**"
   ]
  },
  {
   "cell_type": "code",
   "execution_count": 21,
   "id": "c6a818de",
   "metadata": {
    "scrolled": true
   },
   "outputs": [
    {
     "data": {
      "text/html": [
       "<div>\n",
       "<style scoped>\n",
       "    .dataframe tbody tr th:only-of-type {\n",
       "        vertical-align: middle;\n",
       "    }\n",
       "\n",
       "    .dataframe tbody tr th {\n",
       "        vertical-align: top;\n",
       "    }\n",
       "\n",
       "    .dataframe thead th {\n",
       "        text-align: right;\n",
       "    }\n",
       "</style>\n",
       "<table border=\"1\" class=\"dataframe\">\n",
       "  <thead>\n",
       "    <tr style=\"text-align: right;\">\n",
       "      <th></th>\n",
       "      <th>DateTime</th>\n",
       "      <th>Junction</th>\n",
       "      <th>Vehicles</th>\n",
       "      <th>Time</th>\n",
       "      <th>Date</th>\n",
       "      <th>Hour</th>\n",
       "    </tr>\n",
       "  </thead>\n",
       "  <tbody>\n",
       "    <tr>\n",
       "      <th>0</th>\n",
       "      <td>2015-11-01 00:00:00</td>\n",
       "      <td>1</td>\n",
       "      <td>15</td>\n",
       "      <td>00:00:00</td>\n",
       "      <td>2015/11/01</td>\n",
       "      <td>00</td>\n",
       "    </tr>\n",
       "    <tr>\n",
       "      <th>1</th>\n",
       "      <td>2015-11-01 01:00:00</td>\n",
       "      <td>1</td>\n",
       "      <td>13</td>\n",
       "      <td>01:00:00</td>\n",
       "      <td>2015/11/01</td>\n",
       "      <td>01</td>\n",
       "    </tr>\n",
       "    <tr>\n",
       "      <th>2</th>\n",
       "      <td>2015-11-01 02:00:00</td>\n",
       "      <td>1</td>\n",
       "      <td>10</td>\n",
       "      <td>02:00:00</td>\n",
       "      <td>2015/11/01</td>\n",
       "      <td>02</td>\n",
       "    </tr>\n",
       "    <tr>\n",
       "      <th>3</th>\n",
       "      <td>2015-11-01 03:00:00</td>\n",
       "      <td>1</td>\n",
       "      <td>7</td>\n",
       "      <td>03:00:00</td>\n",
       "      <td>2015/11/01</td>\n",
       "      <td>03</td>\n",
       "    </tr>\n",
       "    <tr>\n",
       "      <th>4</th>\n",
       "      <td>2015-11-01 04:00:00</td>\n",
       "      <td>1</td>\n",
       "      <td>9</td>\n",
       "      <td>04:00:00</td>\n",
       "      <td>2015/11/01</td>\n",
       "      <td>04</td>\n",
       "    </tr>\n",
       "    <tr>\n",
       "      <th>...</th>\n",
       "      <td>...</td>\n",
       "      <td>...</td>\n",
       "      <td>...</td>\n",
       "      <td>...</td>\n",
       "      <td>...</td>\n",
       "      <td>...</td>\n",
       "    </tr>\n",
       "    <tr>\n",
       "      <th>48115</th>\n",
       "      <td>2017-06-30 19:00:00</td>\n",
       "      <td>4</td>\n",
       "      <td>11</td>\n",
       "      <td>19:00:00</td>\n",
       "      <td>2017/06/30</td>\n",
       "      <td>19</td>\n",
       "    </tr>\n",
       "    <tr>\n",
       "      <th>48116</th>\n",
       "      <td>2017-06-30 20:00:00</td>\n",
       "      <td>4</td>\n",
       "      <td>30</td>\n",
       "      <td>20:00:00</td>\n",
       "      <td>2017/06/30</td>\n",
       "      <td>20</td>\n",
       "    </tr>\n",
       "    <tr>\n",
       "      <th>48117</th>\n",
       "      <td>2017-06-30 21:00:00</td>\n",
       "      <td>4</td>\n",
       "      <td>16</td>\n",
       "      <td>21:00:00</td>\n",
       "      <td>2017/06/30</td>\n",
       "      <td>21</td>\n",
       "    </tr>\n",
       "    <tr>\n",
       "      <th>48118</th>\n",
       "      <td>2017-06-30 22:00:00</td>\n",
       "      <td>4</td>\n",
       "      <td>22</td>\n",
       "      <td>22:00:00</td>\n",
       "      <td>2017/06/30</td>\n",
       "      <td>22</td>\n",
       "    </tr>\n",
       "    <tr>\n",
       "      <th>48119</th>\n",
       "      <td>2017-06-30 23:00:00</td>\n",
       "      <td>4</td>\n",
       "      <td>12</td>\n",
       "      <td>23:00:00</td>\n",
       "      <td>2017/06/30</td>\n",
       "      <td>23</td>\n",
       "    </tr>\n",
       "  </tbody>\n",
       "</table>\n",
       "<p>48120 rows × 6 columns</p>\n",
       "</div>"
      ],
      "text/plain": [
       "                 DateTime  Junction  Vehicles      Time        Date Hour\n",
       "0     2015-11-01 00:00:00         1        15  00:00:00  2015/11/01   00\n",
       "1     2015-11-01 01:00:00         1        13  01:00:00  2015/11/01   01\n",
       "2     2015-11-01 02:00:00         1        10  02:00:00  2015/11/01   02\n",
       "3     2015-11-01 03:00:00         1         7  03:00:00  2015/11/01   03\n",
       "4     2015-11-01 04:00:00         1         9  04:00:00  2015/11/01   04\n",
       "...                   ...       ...       ...       ...         ...  ...\n",
       "48115 2017-06-30 19:00:00         4        11  19:00:00  2017/06/30   19\n",
       "48116 2017-06-30 20:00:00         4        30  20:00:00  2017/06/30   20\n",
       "48117 2017-06-30 21:00:00         4        16  21:00:00  2017/06/30   21\n",
       "48118 2017-06-30 22:00:00         4        22  22:00:00  2017/06/30   22\n",
       "48119 2017-06-30 23:00:00         4        12  23:00:00  2017/06/30   23\n",
       "\n",
       "[48120 rows x 6 columns]"
      ]
     },
     "execution_count": 21,
     "metadata": {},
     "output_type": "execute_result"
    }
   ],
   "source": [
    "traffic_df['Hour'] = traffic_df['Time'].str.split(':').str[0]\n",
    "traffic_df"
   ]
  },
  {
   "cell_type": "code",
   "execution_count": 22,
   "id": "b44383ff",
   "metadata": {},
   "outputs": [
    {
     "ename": "SyntaxError",
     "evalue": "EOL while scanning string literal (3830630520.py, line 1)",
     "output_type": "error",
     "traceback": [
      "\u001b[1;36m  Cell \u001b[1;32mIn[22], line 1\u001b[1;36m\u001b[0m\n\u001b[1;33m    sns.lineplot(data=traffic_df, x='Hour', y='Vehicles', hue='Junction',palette=')\u001b[0m\n\u001b[1;37m                                                                                   ^\u001b[0m\n\u001b[1;31mSyntaxError\u001b[0m\u001b[1;31m:\u001b[0m EOL while scanning string literal\n"
     ]
    }
   ],
   "source": [
    "sns.lineplot(data=traffic_df, x='Hour', y='Vehicles', hue='Junction',palette=')\n",
    "plt.xlabel('Hour')\n",
    "plt.ylabel('Number of Vehicles')\n",
    "plt.title('Traffic Distribution over Time by Junction')\n",
    "plt.show()\n",
    "\n",
    "max_vehicles_junction_1 = traffic_df[traffic_df['Junction'] == 1]['Vehicles'].max()\n",
    "print(max_vehicles_junction_1)\n"
   ]
  },
  {
   "cell_type": "code",
   "execution_count": null,
   "id": "1439deca",
   "metadata": {},
   "outputs": [],
   "source": [
    "#Extracting year month and date from the datetime column\n",
    "\n",
    "traffic_df['Year'] = traffic_df['Date'].str.split('/').str[0]\n",
    "traffic_df['Month'] = traffic_df['Date'].str.split('/').str[1]\n",
    "traffic_df['Day'] = traffic_df['Date'].str.split('/').str[2]\n",
    "\n",
    "traffic_df"
   ]
  },
  {
   "cell_type": "code",
   "execution_count": null,
   "id": "86102b7c",
   "metadata": {},
   "outputs": [],
   "source": [
    "peak_hour = traffic_df.groupby('Hour')['Vehicles'].mean().idxmax()\n",
    "print(\"Peak Hour Timing:\", peak_hour)\n"
   ]
  },
  {
   "cell_type": "code",
   "execution_count": null,
   "id": "e7872a7b",
   "metadata": {},
   "outputs": [],
   "source": [
    "traffic_df['Year'].value_counts()"
   ]
  },
  {
   "cell_type": "code",
   "execution_count": null,
   "id": "e4ebadb2",
   "metadata": {
    "scrolled": true
   },
   "outputs": [],
   "source": [
    "fig, ax = plt.subplots(figsize=(6, 5))\n",
    "sns.barplot(x='Year', y='Vehicles', palette='rocket', data=traffic_df,ax=ax)\n",
    "plt.title(\"Year wise distribution of Vehicles\")\n",
    "plt.show()"
   ]
  },
  {
   "cell_type": "code",
   "execution_count": null,
   "id": "8a93dd0a",
   "metadata": {},
   "outputs": [],
   "source": [
    "plt.figure(figsize=(10,4),dpi=200)\n",
    "sns.countplot(x='Year',data=traffic_df,hue='Junction',palette='viridis')"
   ]
  },
  {
   "cell_type": "code",
   "execution_count": null,
   "id": "0f45d2fd",
   "metadata": {},
   "outputs": [],
   "source": [
    "import seaborn as sns\n",
    "import matplotlib.pyplot as plt\n",
    "sns.lineplot(data=traffic_df, x='Month', y='Vehicles', hue='Year')\n",
    "plt.xlabel('Month')\n",
    "plt.ylabel('Number of Vehicles')\n",
    "plt.title('Traffic Distribution over Time by Junction')\n",
    "\n",
    "plt.show()\n"
   ]
  },
  {
   "cell_type": "markdown",
   "id": "147d4316",
   "metadata": {},
   "source": [
    "### Questions that can be asked on the dataset:\n",
    "\n",
    " #### 1. Which junction had the highest traffic?\n",
    " #### 2. What time did that junction have the most traffic\n",
    " #### 3. Max vehicle count\n",
    " #### 4. Peak hour timings\n",
    " #### 5. How has traffic changed over the years?\n",
    " #### 6. Which year had the most traffic?\n",
    " #### 7. Comparison between all the years (which months in a year had the most congestion)\n",
    " #### 8. Overall trend of traffic at all junctions(increasing/decreasing)"
   ]
  },
  {
   "cell_type": "code",
   "execution_count": null,
   "id": "ca0dc755",
   "metadata": {},
   "outputs": [],
   "source": []
  },
  {
   "cell_type": "markdown",
   "id": "3007a19c",
   "metadata": {},
   "source": [
    "### Answers according to the analysis\n",
    "\n",
    "#### 1. Junction 1 had the highest traffic\n",
    "#### 2. Junction 1 had highest traffic at 19:00:00\n",
    "#### 3. 180 vehicles at Junction 3\n",
    "#### 4. All junctions had a peak hour timing of 19:00:00\n",
    "#### 5. Increasing trend\n",
    "#### 6. 2017\n",
    "#### 7. Traffic increased as the months approached\n",
    "#### 8. Increasing\n"
   ]
  },
  {
   "cell_type": "code",
   "execution_count": null,
   "id": "ec4f5df6",
   "metadata": {},
   "outputs": [],
   "source": []
  }
 ],
 "metadata": {
  "kernelspec": {
   "display_name": "Python 3 (ipykernel)",
   "language": "python",
   "name": "python3"
  },
  "language_info": {
   "codemirror_mode": {
    "name": "ipython",
    "version": 3
   },
   "file_extension": ".py",
   "mimetype": "text/x-python",
   "name": "python",
   "nbconvert_exporter": "python",
   "pygments_lexer": "ipython3",
   "version": "3.9.16"
  }
 },
 "nbformat": 4,
 "nbformat_minor": 5
}
